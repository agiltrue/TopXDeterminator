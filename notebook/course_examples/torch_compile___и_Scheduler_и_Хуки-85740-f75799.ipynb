{
  "nbformat": 4,
  "nbformat_minor": 0,
  "metadata": {
    "colab": {
      "provenance": [],
      "gpuType": "T4"
    },
    "kernelspec": {
      "name": "python3",
      "display_name": "Python 3"
    },
    "language_info": {
      "name": "python"
    },
    "accelerator": "GPU"
  },
  "cells": [
    {
      "cell_type": "code",
      "source": [
        "from torchvision import datasets, transforms\n",
        "import torch\n",
        "import torch.nn as nn\n",
        "import torch.optim as optim\n",
        "from torchvision import datasets, transforms\n",
        "from torch.utils.data import DataLoader\n",
        "import time"
      ],
      "metadata": {
        "id": "nAvU58lQmOaZ"
      },
      "execution_count": null,
      "outputs": []
    },
    {
      "cell_type": "code",
      "execution_count": null,
      "metadata": {
        "colab": {
          "base_uri": "https://localhost:8080/"
        },
        "id": "T2_0Q5xUli_-",
        "outputId": "8fde5bfa-325c-47ce-dd21-944d3574ebec"
      },
      "outputs": [
        {
          "output_type": "stream",
          "name": "stdout",
          "text": [
            "Downloading http://yann.lecun.com/exdb/mnist/train-images-idx3-ubyte.gz\n",
            "Failed to download (trying next):\n",
            "HTTP Error 404: Not Found\n",
            "\n",
            "Downloading https://ossci-datasets.s3.amazonaws.com/mnist/train-images-idx3-ubyte.gz\n",
            "Downloading https://ossci-datasets.s3.amazonaws.com/mnist/train-images-idx3-ubyte.gz to ./data/MNIST/raw/train-images-idx3-ubyte.gz\n"
          ]
        },
        {
          "output_type": "stream",
          "name": "stderr",
          "text": [
            "100%|██████████| 9.91M/9.91M [00:00<00:00, 36.6MB/s]\n"
          ]
        },
        {
          "output_type": "stream",
          "name": "stdout",
          "text": [
            "Extracting ./data/MNIST/raw/train-images-idx3-ubyte.gz to ./data/MNIST/raw\n",
            "\n",
            "Downloading http://yann.lecun.com/exdb/mnist/train-labels-idx1-ubyte.gz\n",
            "Failed to download (trying next):\n",
            "HTTP Error 404: Not Found\n",
            "\n",
            "Downloading https://ossci-datasets.s3.amazonaws.com/mnist/train-labels-idx1-ubyte.gz\n",
            "Downloading https://ossci-datasets.s3.amazonaws.com/mnist/train-labels-idx1-ubyte.gz to ./data/MNIST/raw/train-labels-idx1-ubyte.gz\n"
          ]
        },
        {
          "output_type": "stream",
          "name": "stderr",
          "text": [
            "100%|██████████| 28.9k/28.9k [00:00<00:00, 1.23MB/s]\n"
          ]
        },
        {
          "output_type": "stream",
          "name": "stdout",
          "text": [
            "Extracting ./data/MNIST/raw/train-labels-idx1-ubyte.gz to ./data/MNIST/raw\n",
            "\n",
            "Downloading http://yann.lecun.com/exdb/mnist/t10k-images-idx3-ubyte.gz\n",
            "Failed to download (trying next):\n",
            "HTTP Error 404: Not Found\n",
            "\n",
            "Downloading https://ossci-datasets.s3.amazonaws.com/mnist/t10k-images-idx3-ubyte.gz\n",
            "Downloading https://ossci-datasets.s3.amazonaws.com/mnist/t10k-images-idx3-ubyte.gz to ./data/MNIST/raw/t10k-images-idx3-ubyte.gz\n"
          ]
        },
        {
          "output_type": "stream",
          "name": "stderr",
          "text": [
            "100%|██████████| 1.65M/1.65M [00:00<00:00, 10.6MB/s]\n"
          ]
        },
        {
          "output_type": "stream",
          "name": "stdout",
          "text": [
            "Extracting ./data/MNIST/raw/t10k-images-idx3-ubyte.gz to ./data/MNIST/raw\n",
            "\n",
            "Downloading http://yann.lecun.com/exdb/mnist/t10k-labels-idx1-ubyte.gz\n",
            "Failed to download (trying next):\n",
            "HTTP Error 404: Not Found\n",
            "\n",
            "Downloading https://ossci-datasets.s3.amazonaws.com/mnist/t10k-labels-idx1-ubyte.gz\n",
            "Downloading https://ossci-datasets.s3.amazonaws.com/mnist/t10k-labels-idx1-ubyte.gz to ./data/MNIST/raw/t10k-labels-idx1-ubyte.gz\n"
          ]
        },
        {
          "output_type": "stream",
          "name": "stderr",
          "text": [
            "100%|██████████| 4.54k/4.54k [00:00<00:00, 4.71MB/s]"
          ]
        },
        {
          "output_type": "stream",
          "name": "stdout",
          "text": [
            "Extracting ./data/MNIST/raw/t10k-labels-idx1-ubyte.gz to ./data/MNIST/raw\n",
            "\n"
          ]
        },
        {
          "output_type": "stream",
          "name": "stderr",
          "text": [
            "\n"
          ]
        },
        {
          "output_type": "stream",
          "name": "stdout",
          "text": [
            "Mean: 0.13066041469573975\n",
            "Std: 0.30810797214508057\n"
          ]
        }
      ],
      "source": [
        "# Загружаем данные MNIST без преобразований (только ToTensor)\n",
        "transform = transforms.Compose([\n",
        "    transforms.ToTensor()  # Преобразует изображение в тензор\n",
        "])\n",
        "\n",
        "# Загружаем тренировочный датасет\n",
        "train_dataset = datasets.MNIST(root='./data', train=True, download=True, transform=transform)\n",
        "\n",
        "# Создаем DataLoader для итерации по данным\n",
        "train_loader = torch.utils.data.DataLoader(train_dataset, batch_size=64, shuffle=False)\n",
        "\n",
        "# Инициализируем переменные для вычисления среднего и std\n",
        "mean = 0.0\n",
        "std = 0.0\n",
        "total_samples = 0\n",
        "\n",
        "# Вычисляем среднее\n",
        "for images, _ in train_loader:\n",
        "    batch_samples = images.size(0)  # Количество изображений в батче\n",
        "    images = images.view(batch_samples, images.size(1), -1)  # Преобразуем в [batch_size, channels, height*width]\n",
        "    mean += images.mean(2).sum(0)  # Суммируем среднее по всем изображениям в батче\n",
        "    total_samples += batch_samples\n",
        "\n",
        "mean /= total_samples  # Делим на общее количество изображений\n",
        "\n",
        "# Вычисляем стандартное отклонение\n",
        "for images, _ in train_loader:\n",
        "    batch_samples = images.size(0)\n",
        "    images = images.view(batch_samples, images.size(1), -1)\n",
        "    std += ((images - mean.unsqueeze(1)) ** 2).sum([0, 2])  # Суммируем квадраты отклонений\n",
        "\n",
        "std = torch.sqrt(std / (total_samples * 28 * 28))  # Делим на общее количество пикселей\n",
        "\n",
        "print(\"Mean:\", mean.item())\n",
        "print(\"Std:\", std.item())"
      ]
    },
    {
      "cell_type": "code",
      "source": [
        "# Определяем модель\n",
        "class FCNN(nn.Module):\n",
        "    def __init__(self):\n",
        "        super(FCNN, self).__init__()\n",
        "        self.fc1 = nn.Linear(28 * 28, 128)\n",
        "        self.fc2 = nn.Linear(128, 64)\n",
        "        self.fc3 = nn.Linear(64, 10)\n",
        "\n",
        "    def forward(self, x):\n",
        "        x = x.view(-1, 28 * 28)  # Преобразуем изображение в вектор\n",
        "        x = torch.relu(self.fc1(x))\n",
        "        x = torch.relu(self.fc2(x))\n",
        "        x = self.fc3(x)\n",
        "        return x"
      ],
      "metadata": {
        "id": "qxHBOjZ4mJ0Z"
      },
      "execution_count": null,
      "outputs": []
    },
    {
      "cell_type": "code",
      "source": [
        "# Преобразования для данных\n",
        "transform = transforms.Compose([\n",
        "    transforms.ToTensor(),\n",
        "    transforms.Normalize((0.1307,), (0.3081,))\n",
        "])\n",
        "\n",
        "# Загружаем данные\n",
        "train_dataset = datasets.MNIST(root='./data', train=True, download=True, transform=transform)\n",
        "train_loader = DataLoader(train_dataset, batch_size=64, shuffle=True)"
      ],
      "metadata": {
        "id": "JJVvcKWEmR24"
      },
      "execution_count": null,
      "outputs": []
    },
    {
      "cell_type": "code",
      "source": [
        "# Инициализация модели, функции потерь и оптимизатора\n",
        "model = FCNN()\n",
        "criterion = nn.CrossEntropyLoss()\n",
        "optimizer = optim.Adam(model.parameters(), lr=0.001)\n",
        "\n",
        "# Компиляция модели с torch.compile()\n",
        "compiled_model = torch.compile(model) #\n",
        "\n",
        "# Функция для обучения\n",
        "def train(model, train_loader, criterion, optimizer, device='cpu', compiled=False):\n",
        "    model.to(device)\n",
        "    model.train()\n",
        "    total_loss = 0\n",
        "    start_time = time.time()\n",
        "\n",
        "    for images, labels in train_loader:\n",
        "        images, labels = images.to(device), labels.to(device)\n",
        "        optimizer.zero_grad()\n",
        "        outputs = model(images)\n",
        "        loss = criterion(outputs, labels)\n",
        "        loss.backward()\n",
        "        optimizer.step()\n",
        "        total_loss += loss.item()\n",
        "\n",
        "    end_time = time.time()\n",
        "    print(f\"Compiled: {compiled}, Loss: {total_loss / len(train_loader)}, Time: {end_time - start_time:.4f} seconds\")\n",
        "\n",
        "# Обучение без компиляции\n",
        "print(\"Без использования torch.compile():\")\n",
        "train(model, train_loader, criterion, optimizer, device='cpu', compiled=False)\n",
        "\n",
        "# Обучение с компиляцией\n",
        "# torch._dynamo.reset()\n",
        "print(\"С использованием torch.compile() default:\")\n",
        "train(compiled_model, train_loader, criterion, optimizer, device='cpu', compiled=True)\n",
        "print(\"С использованием torch.compile() reduce-overhead:\")\n",
        "compiled_model = torch.compile(model, mode=\"reduce-overhead\")\n",
        "train(compiled_model, train_loader, criterion, optimizer, device='cpu', compiled=True)\n",
        "print(\"С использованием torch.compile() max-autotune:\")\n",
        "compiled_model = torch.compile(model, mode=\"max-autotune\")\n",
        "train(compiled_model, train_loader, criterion, optimizer, device='cpu', compiled=True)"
      ],
      "metadata": {
        "colab": {
          "base_uri": "https://localhost:8080/"
        },
        "id": "KCusqcjZmUcp",
        "outputId": "0d98c866-b1d0-44f4-cd15-7c2f480b00e9"
      },
      "execution_count": null,
      "outputs": [
        {
          "output_type": "stream",
          "name": "stdout",
          "text": [
            "Без использования torch.compile():\n",
            "Compiled: False, Loss: 0.2649670912941763, Time: 21.4231 seconds\n",
            "С использованием torch.compile() default:\n"
          ]
        },
        {
          "output_type": "stream",
          "name": "stderr",
          "text": [
            "No CUDA runtime is found, using CUDA_HOME='/usr/local/cuda'\n"
          ]
        },
        {
          "output_type": "stream",
          "name": "stdout",
          "text": [
            "Compiled: True, Loss: 0.10939310731858745, Time: 65.1584 seconds\n",
            "С использованием torch.compile() reduce-overhead:\n",
            "Compiled: True, Loss: 0.07865439395882937, Time: 18.4633 seconds\n",
            "С использованием torch.compile() max-autotune:\n",
            "Compiled: True, Loss: 0.059115262584202785, Time: 18.3187 seconds\n"
          ]
        }
      ]
    },
    {
      "cell_type": "code",
      "source": [
        "device = 'cuda:0' if torch.cuda.is_available() else 'cpu' # поставить cuda:0\n",
        "print(f\"Using device: {device}\")"
      ],
      "metadata": {
        "colab": {
          "base_uri": "https://localhost:8080/"
        },
        "id": "PRscEFoMmzXZ",
        "outputId": "5f36c6eb-922c-483c-c910-09f71a528a0e"
      },
      "execution_count": null,
      "outputs": [
        {
          "output_type": "stream",
          "name": "stdout",
          "text": [
            "Using device: cpu\n"
          ]
        }
      ]
    },
    {
      "cell_type": "code",
      "source": [
        "model = FCNN().to(device)"
      ],
      "metadata": {
        "id": "3FmITKTxliLP"
      },
      "execution_count": null,
      "outputs": []
    },
    {
      "cell_type": "code",
      "source": [
        "# Загружаем данные\n",
        "train_dataset = datasets.MNIST(root='./data', train=True, download=True, transform=transform)\n",
        "train_loader = DataLoader(train_dataset, batch_size=64, shuffle=True, pin_memory=True)"
      ],
      "metadata": {
        "id": "M2L47JYAjeIY"
      },
      "execution_count": null,
      "outputs": []
    },
    {
      "cell_type": "code",
      "source": [
        "# train(model, train_loader, criterion, optimizer, device=device, compiled=False)\n",
        "# compiled_model = torch.compile(model)\n",
        "# train(compiled_model, train_loader, criterion, optimizer, device=device, compiled=True)\n",
        "# compiled_model = torch.compile(model, mode=\"reduce-overhead\")\n",
        "# train(compiled_model, train_loader, criterion, optimizer, device=device, compiled=True)\n",
        "# compiled_model = torch.compile(model, mode=\"max-autotune\")\n",
        "# train(compiled_model, train_loader, criterion, optimizer, device=device, compiled=True)"
      ],
      "metadata": {
        "id": "exsWbWBOnC9R"
      },
      "execution_count": null,
      "outputs": []
    },
    {
      "cell_type": "markdown",
      "source": [
        "на gpu прирост прозводительности для такой модели не является существенным"
      ],
      "metadata": {
        "id": "uMkPA4YswRCq"
      }
    },
    {
      "cell_type": "markdown",
      "source": [
        "Шедуллинг (scheduling) в PyTorch"
      ],
      "metadata": {
        "id": "LtM7zcIlIS_L"
      }
    },
    {
      "cell_type": "code",
      "source": [
        "import torch\n",
        "import torch.nn as nn\n",
        "import torch.optim as optim\n",
        "from torchvision import datasets, transforms\n",
        "from torch.utils.data import DataLoader\n",
        "import matplotlib.pyplot as plt\n",
        "\n",
        "# Определяем модель\n",
        "class FCNN(nn.Module):\n",
        "    def __init__(self):\n",
        "        super(FCNN, self).__init__()\n",
        "        self.fc1 = nn.Linear(28 * 28, 128)\n",
        "        self.fc2 = nn.Linear(128, 64)\n",
        "        self.fc3 = nn.Linear(64, 10)\n",
        "\n",
        "    def forward(self, x):\n",
        "        x = x.view(-1, 28 * 28)  # Преобразуем изображение в вектор\n",
        "        x = torch.relu(self.fc1(x))\n",
        "        x = torch.relu(self.fc2(x))\n",
        "        x = self.fc3(x)\n",
        "        return x\n",
        "\n",
        "# Загрузка данных\n",
        "transform = transforms.Compose([\n",
        "    transforms.ToTensor(),\n",
        "    transforms.Normalize((0.1307,), (0.3081,))\n",
        "])\n",
        "\n",
        "train_dataset = datasets.MNIST(root='./data', train=True, download=True, transform=transform)\n",
        "train_loader = DataLoader(train_dataset, batch_size=64, shuffle=True)\n",
        "\n",
        "test_dataset = datasets.MNIST(root='./data', train=False, download=True, transform=transform)\n",
        "test_loader = DataLoader(test_dataset, batch_size=64, shuffle=False)\n",
        "\n",
        "# Инициализация модели, функции потерь и оптимизатора\n",
        "model = FCNN()\n",
        "criterion = nn.CrossEntropyLoss()\n",
        "optimizer = optim.Adam(model.parameters(), lr=0.001)\n",
        "\n",
        "# Шедуллер для уменьшения скорости обучения\n",
        "scheduler = optim.lr_scheduler.StepLR(optimizer, step_size=5, gamma=0.1)  # Уменьшаем LR каждые 5 эпох в 10 раз\n",
        "\n",
        "# Функция для обучения\n",
        "def train(model, train_loader, criterion, optimizer, scheduler=None, num_epochs=10):\n",
        "    model.train()\n",
        "    losses = []\n",
        "    learning_rates = []\n",
        "\n",
        "    for epoch in range(num_epochs):\n",
        "        epoch_loss = 0\n",
        "        for images, labels in train_loader:\n",
        "            optimizer.zero_grad()\n",
        "            outputs = model(images)\n",
        "            loss = criterion(outputs, labels)\n",
        "            loss.backward()\n",
        "            optimizer.step()\n",
        "            epoch_loss += loss.item()\n",
        "\n",
        "        if scheduler:\n",
        "            scheduler.step()  # Обновляем скорость обучения\n",
        "\n",
        "        losses.append(epoch_loss / len(train_loader))\n",
        "        learning_rates.append(optimizer.param_groups[0]['lr'])  # Сохраняем текущий LR\n",
        "        print(f\"Epoch [{epoch + 1}/{num_epochs}], Loss: {epoch_loss / len(train_loader):.4f}, LR: {learning_rates[-1]:.6f}\")\n",
        "\n",
        "    return losses, learning_rates\n",
        "\n",
        "# Обучаем модель с шедуллером\n",
        "print(\"Training with scheduler:\")\n",
        "losses_with_scheduler, lrs_with_scheduler = train(model, train_loader, criterion, optimizer, scheduler, num_epochs=10)\n",
        "\n",
        "# Обучаем модель без шедуллера (для сравнения)\n",
        "optimizer_no_scheduler = optim.Adam(model.parameters(), lr=0.001)\n",
        "print(\"Training without scheduler:\")\n",
        "losses_without_scheduler, lrs_without_scheduler = train(model, train_loader, criterion, optimizer_no_scheduler, num_epochs=10)\n",
        "\n",
        "# Визуализация результатов\n",
        "plt.figure(figsize=(12, 5))\n",
        "\n",
        "# График потерь\n",
        "plt.subplot(1, 2, 1)\n",
        "plt.plot(losses_with_scheduler, label='With Scheduler')\n",
        "plt.plot(losses_without_scheduler, label='Without Scheduler')\n",
        "plt.xlabel('Epoch')\n",
        "plt.ylabel('Loss')\n",
        "plt.title('Training Loss')\n",
        "plt.legend()\n",
        "\n",
        "# График скорости обучения\n",
        "plt.subplot(1, 2, 2)\n",
        "plt.plot(lrs_with_scheduler, label='With Scheduler')\n",
        "plt.plot(lrs_without_scheduler, label='Without Scheduler')\n",
        "plt.xlabel('Epoch')\n",
        "plt.ylabel('Learning Rate')\n",
        "plt.title('Learning Rate Schedule')\n",
        "plt.legend()\n",
        "\n",
        "plt.show()"
      ],
      "metadata": {
        "id": "44zb2C4CHTGj",
        "colab": {
          "base_uri": "https://localhost:8080/",
          "height": 938
        },
        "outputId": "fc5bda65-2af0-4218-d433-5a1e28e5c9ab"
      },
      "execution_count": null,
      "outputs": [
        {
          "output_type": "stream",
          "name": "stdout",
          "text": [
            "Training with scheduler:\n",
            "Epoch [1/10], Loss: 0.2697, LR: 0.001000\n",
            "Epoch [2/10], Loss: 0.1144, LR: 0.001000\n",
            "Epoch [3/10], Loss: 0.0801, LR: 0.001000\n",
            "Epoch [4/10], Loss: 0.0632, LR: 0.001000\n",
            "Epoch [5/10], Loss: 0.0482, LR: 0.000100\n",
            "Epoch [6/10], Loss: 0.0234, LR: 0.000100\n",
            "Epoch [7/10], Loss: 0.0171, LR: 0.000100\n",
            "Epoch [8/10], Loss: 0.0147, LR: 0.000100\n",
            "Epoch [9/10], Loss: 0.0129, LR: 0.000100\n",
            "Epoch [10/10], Loss: 0.0112, LR: 0.000010\n",
            "Training without scheduler:\n",
            "Epoch [1/10], Loss: 0.0390, LR: 0.001000\n",
            "Epoch [2/10], Loss: 0.0320, LR: 0.001000\n",
            "Epoch [3/10], Loss: 0.0297, LR: 0.001000\n",
            "Epoch [4/10], Loss: 0.0247, LR: 0.001000\n",
            "Epoch [5/10], Loss: 0.0207, LR: 0.001000\n",
            "Epoch [6/10], Loss: 0.0229, LR: 0.001000\n",
            "Epoch [7/10], Loss: 0.0184, LR: 0.001000\n",
            "Epoch [8/10], Loss: 0.0189, LR: 0.001000\n",
            "Epoch [9/10], Loss: 0.0173, LR: 0.001000\n",
            "Epoch [10/10], Loss: 0.0158, LR: 0.001000\n"
          ]
        },
        {
          "output_type": "stream",
          "name": "stderr",
          "text": [
            "/usr/local/lib/python3.11/dist-packages/numpy/core/getlimits.py:549: UserWarning: The value of the smallest subnormal for <class 'numpy.float64'> type is zero.\n",
            "  setattr(self, word, getattr(machar, word).flat[0])\n",
            "/usr/local/lib/python3.11/dist-packages/numpy/core/getlimits.py:89: UserWarning: The value of the smallest subnormal for <class 'numpy.float64'> type is zero.\n",
            "  return self._float_to_str(self.smallest_subnormal)\n"
          ]
        },
        {
          "output_type": "display_data",
          "data": {
            "text/plain": [
              "<Figure size 1200x500 with 2 Axes>"
            ],
            "image/png": "[encoded data removed]"
          },
          "metadata": {}
        }
      ]
    },
    {
      "cell_type": "code",
      "source": [
        "# Уменьшает скорость обучения, если потери перестают улучшаться.\n",
        "# scheduler = optim.lr_scheduler.ReduceLROnPlateau(optimizer, mode='min', factor=0.1, patience=2)\n",
        "\n",
        "# Изменяет скорость обучения по косинусоидальному закону.\n",
        "# scheduler = optim.lr_scheduler.CosineAnnealingLR(optimizer, T_max=10)\n",
        "\n",
        "# Использует одну циклическую политику изменения скорости обучения.\n",
        "# scheduler = optim.lr_scheduler.OneCycleLR(optimizer, max_lr=0.01, total_steps=100)"
      ],
      "metadata": {
        "id": "HCwR6xJdHTDT"
      },
      "execution_count": null,
      "outputs": []
    },
    {
      "cell_type": "markdown",
      "source": [
        "Модуль хуков в PyTorch"
      ],
      "metadata": {
        "id": "-_76HJzwE6oY"
      }
    },
    {
      "cell_type": "code",
      "execution_count": null,
      "metadata": {
        "id": "ZEW3PDsYBN3h"
      },
      "outputs": [],
      "source": [
        "import torch\n",
        "import torch.nn as nn\n",
        "import torch.optim as optim\n",
        "import torch.nn.functional as F\n",
        "from torchvision import datasets, transforms\n",
        "from torch.utils.data import DataLoader"
      ]
    },
    {
      "cell_type": "code",
      "source": [
        "class CNN(nn.Module):\n",
        "    def __init__(self):\n",
        "        super(CNN, self).__init__()\n",
        "        self.conv1 = nn.Conv2d(1, 32, kernel_size=3, stride=1, padding=1)\n",
        "        self.conv2 = nn.Conv2d(32, 64, kernel_size=3, stride=1, padding=1)\n",
        "        self.fc1 = nn.Linear(64 * 7 * 7, 128)\n",
        "        self.fc2 = nn.Linear(128, 10)\n",
        "\n",
        "    def forward(self, x):\n",
        "        x = F.relu(self.conv1(x))\n",
        "        x = F.max_pool2d(x, 2)\n",
        "        x = F.relu(self.conv2(x))\n",
        "        x = F.max_pool2d(x, 2)\n",
        "        x = x.view(-1, 64 * 7 * 7)\n",
        "        x = F.relu(self.fc1(x))\n",
        "        x = self.fc2(x)\n",
        "        return x"
      ],
      "metadata": {
        "id": "EToqF95NBRZr"
      },
      "execution_count": null,
      "outputs": []
    },
    {
      "cell_type": "markdown",
      "source": [
        "Хук — это функция, которая будет вызываться во время прямого или обратного прохода. Например, можно создать хук для сохранения активаций сверточного слоя:"
      ],
      "metadata": {
        "id": "Dh_1LqK4Bnoz"
      }
    },
    {
      "cell_type": "code",
      "source": [
        "# описание хука\n",
        "activations = {}\n",
        "def hook_fn(module, input, output):\n",
        "    activations['conv1'] = output"
      ],
      "metadata": {
        "id": "-A8YR9ikBixD"
      },
      "execution_count": null,
      "outputs": []
    },
    {
      "cell_type": "code",
      "source": [
        "model = CNN()\n",
        "# регистрация хука\n",
        "hook_handle = model.conv1.register_forward_hook(hook_fn) # регистрация хука"
      ],
      "metadata": {
        "id": "eCggaPf9Bsfz"
      },
      "execution_count": null,
      "outputs": []
    },
    {
      "cell_type": "code",
      "source": [
        "transform = transforms.Compose([\n",
        "    transforms.ToTensor(),\n",
        "    transforms.Normalize((0.1307,), (0.3081,))\n",
        "])\n",
        "\n",
        "train_dataset = datasets.MNIST(root='./data', train=True, download=True, transform=transform)\n",
        "train_loader = DataLoader(train_dataset, batch_size=64, shuffle=True)\n",
        "\n",
        "test_dataset = datasets.MNIST(root='./data', train=False, download=True, transform=transform)\n",
        "test_loader = DataLoader(test_dataset, batch_size=64, shuffle=False)"
      ],
      "metadata": {
        "id": "j7hPoc5nB24y"
      },
      "execution_count": null,
      "outputs": []
    },
    {
      "cell_type": "code",
      "source": [
        "optimizer = optim.Adam(model.parameters(), lr=0.001)\n",
        "criterion = nn.CrossEntropyLoss()\n",
        "\n",
        "for epoch in range(1):  # 1 эпоха для наглядности\n",
        "    model.train()\n",
        "    for batch_idx, (data, target) in enumerate(train_loader):\n",
        "        optimizer.zero_grad()\n",
        "        output = model(data)\n",
        "        loss = criterion(output, target)\n",
        "        loss.backward()\n",
        "        optimizer.step()\n",
        "\n",
        "        if batch_idx % 100 == 0:\n",
        "            print(f'Epoch: {epoch}, Batch: {batch_idx}, Loss: {loss.item()}')\n",
        "            print(f'Activations: {activations[\"conv1\"].shape}')"
      ],
      "metadata": {
        "colab": {
          "base_uri": "https://localhost:8080/"
        },
        "id": "JsXkQkAlCJOy",
        "outputId": "a0056368-0672-4a7d-e588-d95ba74b9abe"
      },
      "execution_count": null,
      "outputs": [
        {
          "output_type": "stream",
          "name": "stdout",
          "text": [
            "Epoch: 0, Batch: 0, Loss: 2.289372205734253\n",
            "Activations: torch.Size([64, 32, 28, 28])\n",
            "Epoch: 0, Batch: 100, Loss: 0.4008307158946991\n",
            "Activations: torch.Size([64, 32, 28, 28])\n",
            "Epoch: 0, Batch: 200, Loss: 0.08166441321372986\n",
            "Activations: torch.Size([64, 32, 28, 28])\n",
            "Epoch: 0, Batch: 300, Loss: 0.09684998542070389\n",
            "Activations: torch.Size([64, 32, 28, 28])\n",
            "Epoch: 0, Batch: 400, Loss: 0.1251658797264099\n",
            "Activations: torch.Size([64, 32, 28, 28])\n",
            "Epoch: 0, Batch: 500, Loss: 0.0785474181175232\n",
            "Activations: torch.Size([64, 32, 28, 28])\n",
            "Epoch: 0, Batch: 600, Loss: 0.13533729314804077\n",
            "Activations: torch.Size([64, 32, 28, 28])\n",
            "Epoch: 0, Batch: 700, Loss: 0.006346864625811577\n",
            "Activations: torch.Size([64, 32, 28, 28])\n",
            "Epoch: 0, Batch: 800, Loss: 0.025149695575237274\n",
            "Activations: torch.Size([64, 32, 28, 28])\n",
            "Epoch: 0, Batch: 900, Loss: 0.07552441209554672\n",
            "Activations: torch.Size([64, 32, 28, 28])\n"
          ]
        }
      ]
    },
    {
      "cell_type": "code",
      "source": [
        "# можем видеть как изменялся тензор сигнала с выхода слоя activations[\"conv1\"]"
      ],
      "metadata": {
        "id": "QnP3z0wvDjY6"
      },
      "execution_count": null,
      "outputs": []
    }
  ]
}