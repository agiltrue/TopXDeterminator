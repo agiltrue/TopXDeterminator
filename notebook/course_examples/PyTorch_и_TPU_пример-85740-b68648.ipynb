{
  "nbformat": 4,
  "nbformat_minor": 0,
  "metadata": {
    "colab": {
      "provenance": [],
      "gpuType": "V28"
    },
    "kernelspec": {
      "name": "python3",
      "display_name": "Python 3"
    },
    "language_info": {
      "name": "python"
    },
    "accelerator": "TPU"
  },
  "cells": [
    {
      "cell_type": "markdown",
      "source": [
        " TPU разработаны с учетом специфики задач машинного обучения, что позволяет им выполнять операции, такие как матричное умножение и свертки, гораздо быстрее и эффективнее, чем традиционные процессоры (CPU) и графические процессоры (GPU)"
      ],
      "metadata": {
        "id": "p8GHMUibj92f"
      }
    },
    {
      "cell_type": "code",
      "source": [
        "!pip install torch torchvision torch_xla"
      ],
      "metadata": {
        "colab": {
          "base_uri": "https://localhost:8080/"
        },
        "id": "TnStUvyriGp0",
        "outputId": "55476ab1-7bb9-4336-e2b5-e7078d9f7b06"
      },
      "execution_count": null,
      "outputs": [
        {
          "output_type": "stream",
          "name": "stdout",
          "text": [
            "Requirement already satisfied: torch in /usr/local/lib/python3.11/dist-packages (2.5.1+cpu)\n",
            "Requirement already satisfied: torchvision in /usr/local/lib/python3.11/dist-packages (0.20.1+cpu)\n",
            "Requirement already satisfied: torch_xla in /usr/local/lib/python3.11/dist-packages (2.5.1)\n",
            "Requirement already satisfied: filelock in /usr/local/lib/python3.11/dist-packages (from torch) (3.17.0)\n",
            "Requirement already satisfied: typing-extensions>=4.8.0 in /usr/local/lib/python3.11/dist-packages (from torch) (4.12.2)\n",
            "Requirement already satisfied: networkx in /usr/local/lib/python3.11/dist-packages (from torch) (3.4.2)\n",
            "Requirement already satisfied: jinja2 in /usr/local/lib/python3.11/dist-packages (from torch) (3.1.5)\n",
            "Requirement already satisfied: fsspec in /usr/local/lib/python3.11/dist-packages (from torch) (2025.2.0)\n",
            "Requirement already satisfied: sympy==1.13.1 in /usr/local/lib/python3.11/dist-packages (from torch) (1.13.1)\n",
            "Requirement already satisfied: mpmath<1.4,>=1.1.0 in /usr/local/lib/python3.11/dist-packages (from sympy==1.13.1->torch) (1.3.0)\n",
            "Requirement already satisfied: numpy in /usr/local/lib/python3.11/dist-packages (from torchvision) (1.26.4)\n",
            "Requirement already satisfied: pillow!=8.3.*,>=5.3.0 in /usr/local/lib/python3.11/dist-packages (from torchvision) (11.1.0)\n",
            "Requirement already satisfied: absl-py>=1.0.0 in /usr/local/lib/python3.11/dist-packages (from torch_xla) (1.4.0)\n",
            "Requirement already satisfied: pyyaml in /usr/local/lib/python3.11/dist-packages (from torch_xla) (6.0.2)\n",
            "Requirement already satisfied: requests in /usr/local/lib/python3.11/dist-packages (from torch_xla) (2.32.3)\n",
            "Requirement already satisfied: MarkupSafe>=2.0 in /usr/local/lib/python3.11/dist-packages (from jinja2->torch) (3.0.2)\n",
            "Requirement already satisfied: charset-normalizer<4,>=2 in /usr/local/lib/python3.11/dist-packages (from requests->torch_xla) (3.4.1)\n",
            "Requirement already satisfied: idna<4,>=2.5 in /usr/local/lib/python3.11/dist-packages (from requests->torch_xla) (3.10)\n",
            "Requirement already satisfied: urllib3<3,>=1.21.1 in /usr/local/lib/python3.11/dist-packages (from requests->torch_xla) (2.3.0)\n",
            "Requirement already satisfied: certifi>=2017.4.17 in /usr/local/lib/python3.11/dist-packages (from requests->torch_xla) (2025.1.31)\n"
          ]
        }
      ]
    },
    {
      "cell_type": "code",
      "source": [
        "import torch\n",
        "import torch.nn as nn\n",
        "import torch.optim as optim\n",
        "import torch_xla.core.xla_model as xm\n",
        "import torch_xla.utils.utils as xla_utils"
      ],
      "metadata": {
        "id": "-PBiEnClZyO0"
      },
      "execution_count": null,
      "outputs": []
    },
    {
      "cell_type": "code",
      "execution_count": null,
      "metadata": {
        "colab": {
          "base_uri": "https://localhost:8080/"
        },
        "id": "EE7hLSI8h9kW",
        "outputId": "dee53fb5-8e33-4b75-8bcf-0cb495547cee"
      },
      "outputs": [
        {
          "output_type": "stream",
          "name": "stdout",
          "text": [
            "Epoch 1/100, Loss: 1.0100244283676147\n",
            "Epoch 2/100, Loss: 0.9964767098426819\n",
            "Epoch 3/100, Loss: 0.9868500828742981\n",
            "Epoch 4/100, Loss: 0.9784755110740662\n",
            "Epoch 5/100, Loss: 0.9717609286308289\n",
            "Epoch 6/100, Loss: 0.9650640487670898\n",
            "Epoch 7/100, Loss: 0.958713173866272\n",
            "Epoch 8/100, Loss: 0.9539760947227478\n",
            "Epoch 9/100, Loss: 0.9491904377937317\n",
            "Epoch 10/100, Loss: 0.944609522819519\n",
            "Epoch 11/100, Loss: 0.9410402774810791\n",
            "Epoch 12/100, Loss: 0.9374430775642395\n",
            "Epoch 13/100, Loss: 0.9340038299560547\n",
            "Epoch 14/100, Loss: 0.9313339591026306\n",
            "Epoch 15/100, Loss: 0.9283309578895569\n",
            "Epoch 16/100, Loss: 0.9255719780921936\n",
            "Epoch 17/100, Loss: 0.9232619404792786\n",
            "Epoch 18/100, Loss: 0.9206900000572205\n",
            "Epoch 19/100, Loss: 0.918210506439209\n",
            "Epoch 20/100, Loss: 0.916079580783844\n",
            "Epoch 21/100, Loss: 0.9135019183158875\n",
            "Epoch 22/100, Loss: 0.9111710786819458\n",
            "Epoch 23/100, Loss: 0.9089253544807434\n",
            "Epoch 24/100, Loss: 0.9062814712524414\n",
            "Epoch 25/100, Loss: 0.9037129878997803\n",
            "Epoch 26/100, Loss: 0.9007343649864197\n",
            "Epoch 27/100, Loss: 0.8978388905525208\n",
            "Epoch 28/100, Loss: 0.8948512673377991\n",
            "Epoch 29/100, Loss: 0.8915128707885742\n",
            "Epoch 30/100, Loss: 0.8882983326911926\n",
            "Epoch 31/100, Loss: 0.8846529722213745\n",
            "Epoch 32/100, Loss: 0.881119966506958\n",
            "Epoch 33/100, Loss: 0.8771910071372986\n",
            "Epoch 34/100, Loss: 0.8734381794929504\n",
            "Epoch 35/100, Loss: 0.8697802424430847\n",
            "Epoch 36/100, Loss: 0.8656975626945496\n",
            "Epoch 37/100, Loss: 0.8614467978477478\n",
            "Epoch 38/100, Loss: 0.8571474552154541\n",
            "Epoch 39/100, Loss: 0.8525826930999756\n",
            "Epoch 40/100, Loss: 0.8479101061820984\n",
            "Epoch 41/100, Loss: 0.8434415459632874\n",
            "Epoch 42/100, Loss: 0.8391534686088562\n",
            "Epoch 43/100, Loss: 0.8351880311965942\n",
            "Epoch 44/100, Loss: 0.8304318189620972\n",
            "Epoch 45/100, Loss: 0.8263630867004395\n",
            "Epoch 46/100, Loss: 0.8213021755218506\n",
            "Epoch 47/100, Loss: 0.8166714310646057\n",
            "Epoch 48/100, Loss: 0.812248170375824\n",
            "Epoch 49/100, Loss: 0.8069616556167603\n",
            "Epoch 50/100, Loss: 0.8024194240570068\n",
            "Epoch 51/100, Loss: 0.7975398898124695\n",
            "Epoch 52/100, Loss: 0.792547345161438\n",
            "Epoch 53/100, Loss: 0.7881897687911987\n",
            "Epoch 54/100, Loss: 0.7826570272445679\n",
            "Epoch 55/100, Loss: 0.7778606414794922\n",
            "Epoch 56/100, Loss: 0.7736939787864685\n",
            "Epoch 57/100, Loss: 0.7682057619094849\n",
            "Epoch 58/100, Loss: 0.7627783417701721\n",
            "Epoch 59/100, Loss: 0.7601453065872192\n",
            "Epoch 60/100, Loss: 0.7538814544677734\n",
            "Epoch 61/100, Loss: 0.7491392493247986\n",
            "Epoch 62/100, Loss: 0.7465803027153015\n",
            "Epoch 63/100, Loss: 0.741898775100708\n",
            "Epoch 64/100, Loss: 0.7358579039573669\n",
            "Epoch 65/100, Loss: 0.7317572236061096\n",
            "Epoch 66/100, Loss: 0.7310364246368408\n",
            "Epoch 67/100, Loss: 0.7241402268409729\n",
            "Epoch 68/100, Loss: 0.719896137714386\n",
            "Epoch 69/100, Loss: 0.7157503962516785\n",
            "Epoch 70/100, Loss: 0.7152320742607117\n",
            "Epoch 71/100, Loss: 0.7093101143836975\n",
            "Epoch 72/100, Loss: 0.7055675387382507\n",
            "Epoch 73/100, Loss: 0.7017764449119568\n",
            "Epoch 74/100, Loss: 0.6978484392166138\n",
            "Epoch 75/100, Loss: 0.6971539258956909\n",
            "Epoch 76/100, Loss: 0.6949806809425354\n",
            "Epoch 77/100, Loss: 0.6900212168693542\n",
            "Epoch 78/100, Loss: 0.6863012909889221\n",
            "Epoch 79/100, Loss: 0.6828527450561523\n",
            "Epoch 80/100, Loss: 0.6814268827438354\n",
            "Epoch 81/100, Loss: 0.6813896894454956\n",
            "Epoch 82/100, Loss: 0.678023099899292\n",
            "Epoch 83/100, Loss: 0.672385036945343\n",
            "Epoch 84/100, Loss: 0.6708709597587585\n",
            "Epoch 85/100, Loss: 0.6681917309761047\n",
            "Epoch 86/100, Loss: 0.6646967530250549\n",
            "Epoch 87/100, Loss: 0.6669918298721313\n",
            "Epoch 88/100, Loss: 0.6648647785186768\n",
            "Epoch 89/100, Loss: 0.6603021025657654\n",
            "Epoch 90/100, Loss: 0.657133162021637\n",
            "Epoch 91/100, Loss: 0.6548957228660583\n",
            "Epoch 92/100, Loss: 0.6537857055664062\n",
            "Epoch 93/100, Loss: 0.6511965394020081\n",
            "Epoch 94/100, Loss: 0.6486830711364746\n",
            "Epoch 95/100, Loss: 0.6457827091217041\n",
            "Epoch 96/100, Loss: 0.6466416716575623\n",
            "Epoch 97/100, Loss: 0.6484398245811462\n",
            "Epoch 98/100, Loss: 0.6413344144821167\n",
            "Epoch 99/100, Loss: 0.6383440494537354\n",
            "Epoch 100/100, Loss: 0.63737952709198\n"
          ]
        }
      ],
      "source": [
        "class NN(nn.Module):\n",
        "    def __init__(self):\n",
        "        super(NN, self).__init__()\n",
        "        self.fc1 = nn.Linear(10, 5)\n",
        "        self.fc2 = nn.Linear(5, 1)\n",
        "\n",
        "    def forward(self, x):\n",
        "        x = torch.relu(self.fc1(x))\n",
        "        x = self.fc2(x)\n",
        "        return x\n",
        "\n",
        "# Инициализация модели и перенос на TPU\n",
        "device = xm.xla_device()\n",
        "model = NN().to(device)\n",
        "\n",
        "# Оптимизатор\n",
        "optimizer = optim.SGD(model.parameters(), lr=0.1)\n",
        "\n",
        "# Пример данных\n",
        "data = torch.randn(32, 10).to(device)\n",
        "target = torch.randn(32, 1).to(device)\n",
        "\n",
        "num_epochs = 10\n",
        "for epoch in range(num_epochs):\n",
        "    model.train()\n",
        "    optimizer.zero_grad()\n",
        "    output = model(data)\n",
        "    loss = nn.MSELoss()(output, target)\n",
        "    loss.backward()\n",
        "    optimizer.step()\n",
        "    print(f'Epoch {epoch+1}/{num_epochs}, Loss: {loss.item()}')\n",
        "\n",
        "# Сохранение модели (если необходимо)\n",
        "# torch.save(model.state_dict(), 'model.pth')"
      ]
    },
    {
      "cell_type": "markdown",
      "source": [
        "TPU лучше всего работают с большими размерами пакетов. Если вы используете слишком маленькие размеры пакетов, это может привести к неэффективному использованию ресурсов TPU и, как следствие, к более медленному выполнению операций.\n",
        "\n",
        "TPU оптимизированы для выполнения параллельных операций."
      ],
      "metadata": {
        "id": "IeVQnKeUjp8d"
      }
    }
  ]
}