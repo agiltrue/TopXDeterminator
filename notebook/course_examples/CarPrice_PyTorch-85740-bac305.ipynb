{
  "cells": [
    {
      "cell_type": "code",
      "execution_count": null,
      "metadata": {
        "id": "tw-XmmkTC8w2"
      },
      "outputs": [],
      "source": [
        "import torch\n",
        "import torch.nn as nn\n",
        "import torch.optim as optim\n",
        "from sklearn.model_selection import train_test_split\n",
        "from sklearn.preprocessing import StandardScaler\n",
        "import pandas as pd"
      ]
    },
    {
      "cell_type": "code",
      "execution_count": null,
      "metadata": {
        "id": "GheanxetC96C"
      },
      "outputs": [],
      "source": [
        "data = {\n",
        "    'age': [1, 2, 3, 4, 5, 6, 7, 8, 9, 10],\n",
        "    'km': [10000, 20000, 30000, 40000, 50000, 60000, 70000, 80000, 90000, 100000],\n",
        "    'price': [2000000, 1800000, 1600000, 1400000, 1200000, 1000000, 900000, 800000, 700000, 6000000]\n",
        "}\n",
        "\n",
        "# Создание DataFrame\n",
        "data = pd.DataFrame(data)"
      ]
    },
    {
      "cell_type": "code",
      "execution_count": null,
      "metadata": {
        "id": "i2Xjzd2kC98Z"
      },
      "outputs": [],
      "source": [
        "# Загрузка данных\n",
        "X = data[['age', 'km']].values\n",
        "y = data['price'].values"
      ]
    },
    {
      "cell_type": "code",
      "execution_count": null,
      "metadata": {
        "id": "J8jyQFqPC9_B"
      },
      "outputs": [],
      "source": [
        "# Разделение данных на обучающую и тестовую выборки\n",
        "X_train, X_test, y_train, y_test = train_test_split(X, y, test_size=0.2, random_state=42)"
      ]
    },
    {
      "cell_type": "code",
      "execution_count": null,
      "metadata": {
        "id": "BDjNvO1wC-Ba"
      },
      "outputs": [],
      "source": [
        "# Стандартизация данных\n",
        "scaler = StandardScaler()\n",
        "X_train = scaler.fit_transform(X_train)\n",
        "X_test = scaler.transform(X_test)"
      ]
    },
    {
      "cell_type": "code",
      "execution_count": null,
      "metadata": {
        "id": "Fnyys7Q3DVKj"
      },
      "outputs": [],
      "source": [
        "# Преобразование в тензоры\n",
        "X_train_tensor = torch.FloatTensor(X_train)\n",
        "y_train_tensor = torch.FloatTensor(y_train).view(-1, 1)\n",
        "X_test_tensor = torch.FloatTensor(X_test)\n",
        "y_test_tensor = torch.FloatTensor(y_test).view(-1, 1)"
      ]
    },
    {
      "cell_type": "code",
      "execution_count": null,
      "metadata": {
        "colab": {
          "base_uri": "https://localhost:8080/"
        },
        "id": "zlvDvU2WDhk8",
        "outputId": "54b54ede-8ae3-4c53-d014-749d71bd9196"
      },
      "outputs": [
        {
          "data": {
            "text/plain": [
              "2"
            ]
          },
          "execution_count": 7,
          "metadata": {},
          "output_type": "execute_result"
        }
      ],
      "source": [
        "X_train_tensor.shape[1]"
      ]
    },
    {
      "cell_type": "code",
      "execution_count": null,
      "metadata": {
        "colab": {
          "base_uri": "https://localhost:8080/"
        },
        "id": "9P30TaSbDo7d",
        "outputId": "649591e2-4296-4432-ca82-cee5654b96ac"
      },
      "outputs": [
        {
          "data": {
            "text/plain": [
              "1"
            ]
          },
          "execution_count": 8,
          "metadata": {},
          "output_type": "execute_result"
        }
      ],
      "source": [
        "y_train_tensor.shape[1]"
      ]
    },
    {
      "cell_type": "markdown",
      "metadata": {
        "id": "91atD9ZI4UOS"
      },
      "source": [
        "Предложите вариант обучения модели"
      ]
    },
    {
      "cell_type": "code",
      "execution_count": null,
      "metadata": {
        "id": "eo4wZyQJ4T4T"
      },
      "outputs": [],
      "source": []
    },
    {
      "cell_type": "code",
      "execution_count": null,
      "metadata": {
        "id": "ROQsKyFn4T1b"
      },
      "outputs": [],
      "source": []
    },
    {
      "cell_type": "code",
      "execution_count": null,
      "metadata": {
        "id": "stItOqxJ4Txk"
      },
      "outputs": [],
      "source": []
    },
    {
      "cell_type": "code",
      "execution_count": null,
      "metadata": {
        "id": "xUm1V9PS4TvS"
      },
      "outputs": [],
      "source": []
    },
    {
      "cell_type": "code",
      "execution_count": null,
      "metadata": {
        "id": "i58rU0OZ4Tsz"
      },
      "outputs": [],
      "source": []
    },
    {
      "cell_type": "code",
      "execution_count": null,
      "metadata": {
        "id": "isAA2RvfDYlc"
      },
      "outputs": [],
      "source": [
        "## альтернативно - через nn.Module:\n",
        "# class CarPrice(nn.Module):\n",
        "#     def __init__(self):\n",
        "#         super(CarPrice, self).__init__()\n",
        "#         self.fc1 = nn.Linear(2, 64)  # 2 входных признака\n",
        "#         self.fc2 = nn.Linear(64, 32)\n",
        "#         self.fc3 = nn.Linear(32, 1)   # 1 выходной признак (цена)\n",
        "\n",
        "#     def forward(self, x):\n",
        "#         x = torch.relu(self.fc1(x)) # меняем функцию активации\n",
        "#         x = torch.relu(self.fc2(x)) # меняем функцию активации\n",
        "#         x = self.fc3(x)\n",
        "#         return x\n",
        "# model = CarPrice()"
      ]
    },
    {
      "cell_type": "code",
      "execution_count": null,
      "metadata": {
        "id": "6WtA5D9apTum"
      },
      "outputs": [],
      "source": [
        "model = nn.Sequential(\n",
        "    nn.Linear(2, 64),\n",
        "    nn.ReLU(),\n",
        "    nn.Linear(64, 32),\n",
        "    nn.ReLU(),\n",
        "    nn.Linear(32, 1)\n",
        ")"
      ]
    },
    {
      "cell_type": "code",
      "execution_count": null,
      "metadata": {
        "id": "fdnnl407Dudl"
      },
      "outputs": [],
      "source": [
        "# Инициализация модели, функции потерь и оптимизатора\n",
        "criterion = nn.MSELoss()\n",
        "optimizer = optim.Adam(model.parameters(), lr=0.1)"
      ]
    },
    {
      "cell_type": "code",
      "execution_count": null,
      "metadata": {
        "colab": {
          "base_uri": "https://localhost:8080/"
        },
        "id": "i4cgHWimD0u2",
        "outputId": "23d6f01f-1a14-4ece-8703-6a617e09dc87"
      },
      "outputs": [
        {
          "name": "stdout",
          "output_type": "stream",
          "text": [
            "Epoch [100/3000], Loss: 1113278382080.0000\n",
            "Epoch [200/3000], Loss: 833302364160.0000\n",
            "Epoch [300/3000], Loss: 624117415936.0000\n",
            "Epoch [400/3000], Loss: 377519570944.0000\n",
            "Epoch [500/3000], Loss: 211459686400.0000\n",
            "Epoch [600/3000], Loss: 124224847872.0000\n",
            "Epoch [700/3000], Loss: 64320532480.0000\n",
            "Epoch [800/3000], Loss: 22814269440.0000\n",
            "Epoch [900/3000], Loss: 2553776896.0000\n",
            "Epoch [1000/3000], Loss: 959020800.0000\n",
            "Epoch [1100/3000], Loss: 818467200.0000\n",
            "Epoch [1200/3000], Loss: 697153792.0000\n",
            "Epoch [1300/3000], Loss: 593015808.0000\n",
            "Epoch [1400/3000], Loss: 503419840.0000\n",
            "Epoch [1500/3000], Loss: 426232864.0000\n",
            "Epoch [1600/3000], Loss: 360521120.0000\n",
            "Epoch [1700/3000], Loss: 303942848.0000\n",
            "Epoch [1800/3000], Loss: 255828064.0000\n",
            "Epoch [1900/3000], Loss: 215089024.0000\n",
            "Epoch [2000/3000], Loss: 180406464.0000\n",
            "Epoch [2100/3000], Loss: 150942768.0000\n",
            "Epoch [2200/3000], Loss: 126144192.0000\n",
            "Epoch [2300/3000], Loss: 105231440.0000\n",
            "Epoch [2400/3000], Loss: 87529504.0000\n",
            "Epoch [2500/3000], Loss: 72657296.0000\n",
            "Epoch [2600/3000], Loss: 60141768.0000\n",
            "Epoch [2700/3000], Loss: 49653048.0000\n",
            "Epoch [2800/3000], Loss: 40864388.0000\n",
            "Epoch [2900/3000], Loss: 33504176.0000\n",
            "Epoch [3000/3000], Loss: 27361040.0000\n"
          ]
        }
      ],
      "source": [
        "# Обучение\n",
        "num_epochs = 3000\n",
        "for epoch in range(num_epochs):\n",
        "    model.train()\n",
        "\n",
        "    # Прямой проход\n",
        "    outputs = model(X_train_tensor)\n",
        "    loss = criterion(outputs, y_train_tensor) # вычисление значения функции потерь\n",
        "\n",
        "    # Обратный проход и оптимизация\n",
        "    optimizer.zero_grad()\n",
        "    loss.backward()\n",
        "    optimizer.step()\n",
        "\n",
        "    if (epoch+1) % 100 == 0:\n",
        "        print(f'Epoch [{epoch+1}/{num_epochs}], Loss: {loss.item():.4f}')"
      ]
    },
    {
      "cell_type": "code",
      "execution_count": null,
      "metadata": {
        "colab": {
          "base_uri": "https://localhost:8080/"
        },
        "id": "CHtmmFbLECmY",
        "outputId": "f8e1541e-ad22-489b-929a-073a3333ab46"
      },
      "outputs": [
        {
          "name": "stdout",
          "output_type": "stream",
          "text": [
            "Test Loss: 3460540399616.00\n"
          ]
        }
      ],
      "source": [
        "model.eval()\n",
        "with torch.no_grad():\n",
        "    predicted = model(X_test_tensor)\n",
        "    test_loss = criterion(predicted, y_test_tensor)\n",
        "    print(f'Test Loss: {test_loss.item():.2f}')"
      ]
    },
    {
      "cell_type": "code",
      "execution_count": null,
      "metadata": {
        "colab": {
          "base_uri": "https://localhost:8080/"
        },
        "id": "gNcCfZHVFAHH",
        "outputId": "f40814ab-31c9-483b-aafb-f16ef041a0c5"
      },
      "outputs": [
        {
          "name": "stdout",
          "output_type": "stream",
          "text": [
            "Предсказанная стоимость автомобиля: 1398894.88\n"
          ]
        }
      ],
      "source": [
        "# Пример новых данных о автомобиле\n",
        "new_data = [[3, 50000]]  # Например, 3 года, 50000 км пробега\n",
        "\n",
        "# Стандартизация новых данных\n",
        "new_data_scaled = scaler.transform(new_data)\n",
        "\n",
        "# Преобразование в тензор\n",
        "new_data_tensor = torch.FloatTensor(new_data_scaled)\n",
        "\n",
        "# Отключение градиентов для предсказания\n",
        "with torch.no_grad():\n",
        "    predicted_price = model(new_data_tensor)\n",
        "\n",
        "# Вывод предсказанной цены\n",
        "print(f'Предсказанная стоимость автомобиля: {predicted_price.item():.2f}')"
      ]
    },
    {
      "cell_type": "code",
      "execution_count": null,
      "metadata": {
        "id": "WkIOjLleIqtB"
      },
      "outputs": [],
      "source": [
        "# Сохранение модели\n",
        "torch.save(model, 'car_price_model.pth')\n",
        "\n",
        "# сохранение весов модели\n",
        "# torch.save(model.state_dict(), 'car_price_model.pth')"
      ]
    },
    {
      "cell_type": "code",
      "execution_count": null,
      "metadata": {
        "colab": {
          "base_uri": "https://localhost:8080/"
        },
        "id": "A9WrmaqeIvHR",
        "outputId": "0145cb45-3c90-4e26-a4b9-24d420149ccd"
      },
      "outputs": [
        {
          "name": "stderr",
          "output_type": "stream",
          "text": [
            "<ipython-input-15-6ded6e38a689>:2: FutureWarning: You are using `torch.load` with `weights_only=False` (the current default value), which uses the default pickle module implicitly. It is possible to construct malicious pickle data which will execute arbitrary code during unpickling (See https://github.com/pytorch/pytorch/blob/main/SECURITY.md#untrusted-models for more details). In a future release, the default value for `weights_only` will be flipped to `True`. This limits the functions that could be executed during unpickling. Arbitrary objects will no longer be allowed to be loaded via this mode unless they are explicitly allowlisted by the user via `torch.serialization.add_safe_globals`. We recommend you start setting `weights_only=True` for any use case where you don't have full control of the loaded file. Please open an issue on GitHub for any issues related to this experimental feature.\n",
            "  model_loaded = torch.load('car_price_model.pth')\n"
          ]
        },
        {
          "data": {
            "text/plain": [
              "Sequential(\n",
              "  (0): Linear(in_features=2, out_features=64, bias=True)\n",
              "  (1): ReLU()\n",
              "  (2): Linear(in_features=64, out_features=32, bias=True)\n",
              "  (3): ReLU()\n",
              "  (4): Linear(in_features=32, out_features=1, bias=True)\n",
              ")"
            ]
          },
          "execution_count": 15,
          "metadata": {},
          "output_type": "execute_result"
        }
      ],
      "source": [
        "# Загрузка состояния модели\n",
        "model_loaded = torch.load('car_price_model.pth')\n",
        "\n",
        "# Переключение модели в режим оценки\n",
        "model_loaded.eval()"
      ]
    },
    {
      "cell_type": "code",
      "execution_count": null,
      "metadata": {
        "colab": {
          "base_uri": "https://localhost:8080/"
        },
        "id": "WWYXw6sxvygw",
        "outputId": "a1cf15a1-01a6-4a8e-92b1-163e524b1959"
      },
      "outputs": [
        {
          "name": "stdout",
          "output_type": "stream",
          "text": [
            "Предсказанная стоимость автомобиля: 1398894.88\n"
          ]
        }
      ],
      "source": [
        "# Пример новых данных о автомобиле\n",
        "new_data = [[3, 50000]]  # Например, 3 года, 50000 км пробега\n",
        "\n",
        "# Стандартизация новых данных\n",
        "new_data_scaled = scaler.transform(new_data)\n",
        "\n",
        "# Преобразование в тензор\n",
        "new_data_tensor = torch.FloatTensor(new_data_scaled)\n",
        "\n",
        "# Отключение градиентов для предсказания\n",
        "with torch.no_grad():\n",
        "    predicted_price = model_loaded(new_data_tensor)\n",
        "\n",
        "# Вывод предсказанной цены\n",
        "print(f'Предсказанная стоимость автомобиля: {predicted_price.item():.2f}')"
      ]
    },
    {
      "cell_type": "markdown",
      "metadata": {
        "id": "uT6J43HIJFGb"
      },
      "source": [
        "Есть прототип приложения на streamlit\n",
        "Задача применить модель pyTorch\n"
      ]
    },
    {
      "cell_type": "code",
      "execution_count": null,
      "metadata": {
        "colab": {
          "base_uri": "https://localhost:8080/"
        },
        "id": "a4xLiyRYw2eY",
        "outputId": "f42ff799-6d7a-43b7-cc15-d413b209eef2"
      },
      "outputs": [
        {
          "name": "stdout",
          "output_type": "stream",
          "text": [
            "\u001b[2K     \u001b[90m━━━━━━━━━━━━━━━━━━━━━━━━━━━━━━━━━━━━━━━━\u001b[0m \u001b[32m44.3/44.3 kB\u001b[0m \u001b[31m2.4 MB/s\u001b[0m eta \u001b[36m0:00:00\u001b[0m\n",
            "\u001b[2K   \u001b[90m━━━━━━━━━━━━━━━━━━━━━━━━━━━━━━━━━━━━━━━━\u001b[0m \u001b[32m9.6/9.6 MB\u001b[0m \u001b[31m58.8 MB/s\u001b[0m eta \u001b[36m0:00:00\u001b[0m\n",
            "\u001b[2K   \u001b[90m━━━━━━━━━━━━━━━━━━━━━━━━━━━━━━━━━━━━━━━━\u001b[0m \u001b[32m6.9/6.9 MB\u001b[0m \u001b[31m88.2 MB/s\u001b[0m eta \u001b[36m0:00:00\u001b[0m\n",
            "\u001b[2K   \u001b[90m━━━━━━━━━━━━━━━━━━━━━━━━━━━━━━━━━━━━━━━━\u001b[0m \u001b[32m79.1/79.1 kB\u001b[0m \u001b[31m6.1 MB/s\u001b[0m eta \u001b[36m0:00:00\u001b[0m\n",
            "\u001b[?25h"
          ]
        }
      ],
      "source": [
        "!pip install -q streamlit"
      ]
    },
    {
      "cell_type": "code",
      "execution_count": null,
      "metadata": {
        "colab": {
          "base_uri": "https://localhost:8080/"
        },
        "id": "ug-7obM5wEkY",
        "outputId": "57d303d7-d2bd-418d-9a84-0447eb9e0e44"
      },
      "outputs": [
        {
          "name": "stdout",
          "output_type": "stream",
          "text": [
            "Writing app.py\n"
          ]
        }
      ],
      "source": [
        "%%writefile app.py\n",
        "\n",
        "import torch\n",
        "import streamlit as st\n",
        "import pandas as pd\n",
        "import numpy as np\n",
        "from sklearn.preprocessing import StandardScaler\n",
        "from sklearn.model_selection import train_test_split\n",
        "\n",
        "data = {\n",
        "    'age': [1, 2, 3, 4, 5, 6, 7, 8, 9, 10],\n",
        "    'km': [10000, 20000, 30000, 40000, 50000, 60000, 70000, 80000, 90000, 100000],\n",
        "    'price': [2000000, 1800000, 1600000, 1400000, 1200000, 1000000, 900000, 800000, 700000, 6000000]\n",
        "}\n",
        "\n",
        "# Создание DataFrame\n",
        "data = pd.DataFrame(data)\n",
        "\n",
        "# Загрузка данных\n",
        "X = data[['age', 'km']].values\n",
        "y = data['price'].values\n",
        "\n",
        "# Разделение данных на обучающую и тестовую выборки\n",
        "X_train, X_test, y_train, y_test = train_test_split(X, y, test_size=0.2, random_state=42)\n",
        "\n",
        "# Стандартизация данных\n",
        "scaler = StandardScaler()\n",
        "X_train = scaler.fit_transform(X_train)\n",
        "X_test = scaler.transform(X_test)\n",
        "\n",
        "\n",
        "model_loaded = torch.load('car_price_model.pth')\n",
        "\n",
        "# Заголовок приложения\n",
        "st.title(\"Оценка стоимости автомобиля\")\n",
        "\n",
        "# Ввод данных пользователем\n",
        "age = st.number_input(\"Возраст автомобиля (в годах)\", min_value=0, max_value=20, value=1)\n",
        "km = st.number_input(\"Пробег автомобиля (в километрах)\", min_value=0, value=10000,step=1000)\n",
        "\n",
        "# Кнопка для расчета стоимости\n",
        "if st.button(\"Определить стоимость\"):\n",
        "    input_data = np.array([[age, km]])\n",
        "\n",
        "    # Стандартизация новых данных\n",
        "    new_data_scaled = scaler.transform(input_data)\n",
        "\n",
        "    # Преобразование в тензор\n",
        "    new_data_tensor = torch.FloatTensor(new_data_scaled)\n",
        "\n",
        "    # Отключение градиентов для предсказания\n",
        "    with torch.no_grad():\n",
        "        predicted_price = model_loaded(new_data_tensor)\n",
        "\n",
        "    st.write(f\"Оценочная стоимость автомобиля: {predicted_price[0].numpy()[0]:,.2f} руб.\")"
      ]
    },
    {
      "cell_type": "code",
      "execution_count": null,
      "metadata": {
        "colab": {
          "base_uri": "https://localhost:8080/"
        },
        "id": "zF_s2cWqw8cw",
        "outputId": "d985466b-2d43-43b3-ad6e-35905fe24f3a"
      },
      "outputs": [
        {
          "name": "stdout",
          "output_type": "stream",
          "text": [
            "34.125.16.45\n"
          ]
        }
      ],
      "source": [
        "!wget -q -O - ipv4.icanhazip.com"
      ]
    },
    {
      "cell_type": "code",
      "execution_count": null,
      "metadata": {
        "colab": {
          "background_save": true,
          "base_uri": "https://localhost:8080/"
        },
        "id": "xl15R-PZw-9g",
        "outputId": "7246616f-6b72-4e1e-ac8a-3e587c5066fa"
      },
      "outputs": [
        {
          "name": "stdout",
          "output_type": "stream",
          "text": [
            "\n",
            "Collecting usage statistics. To deactivate, set browser.gatherUsageStats to false.\n",
            "\u001b[0m\n",
            "\u001b[1G\u001b[0K⠙\u001b[1G\u001b[0K⠹\u001b[1G\u001b[0K⠸\u001b[1G\u001b[0K⠼\u001b[0m\n",
            "\u001b[34m\u001b[1m  You can now view your Streamlit app in your browser.\u001b[0m\n",
            "\u001b[0m\n",
            "\u001b[34m  Local URL: \u001b[0m\u001b[1mhttp://localhost:8501\u001b[0m\n",
            "\u001b[34m  Network URL: \u001b[0m\u001b[1mhttp://172.28.0.12:8501\u001b[0m\n",
            "\u001b[34m  External URL: \u001b[0m\u001b[1mhttp://34.125.16.45:8501\u001b[0m\n",
            "\u001b[0m\n",
            "\u001b[1G\u001b[0K⠴\u001b[1G\u001b[0K⠦\u001b[1G\u001b[0K⠧\u001b[1G\u001b[0K⠇\u001b[1G\u001b[0K⠏\u001b[1G\u001b[0K\u001b[1G\u001b[0JNeed to install the following packages:\n",
            "localtunnel@2.0.2\n",
            "Ok to proceed? (y) \u001b[20Gy\n",
            "\n",
            "\u001b[1G\u001b[0K⠙\u001b[1G\u001b[0K⠹\u001b[1G\u001b[0K⠸\u001b[1G\u001b[0K⠼\u001b[1G\u001b[0K⠴\u001b[1G\u001b[0K⠦\u001b[1G\u001b[0K⠧\u001b[1G\u001b[0K⠇\u001b[1G\u001b[0K⠏\u001b[1G\u001b[0K⠋\u001b[1G\u001b[0K⠙\u001b[1G\u001b[0K⠹\u001b[1G\u001b[0K⠸\u001b[1G\u001b[0K⠼\u001b[1G\u001b[0K⠴\u001b[1G\u001b[0K⠦\u001b[1G\u001b[0K⠧\u001b[1G\u001b[0K⠇\u001b[1G\u001b[0K⠏\u001b[1G\u001b[0K⠋\u001b[1G\u001b[0K⠙\u001b[1G\u001b[0K⠹\u001b[1G\u001b[0K⠸\u001b[1G\u001b[0K⠼\u001b[1G\u001b[0K⠴\u001b[1G\u001b[0K⠦\u001b[1G\u001b[0K⠧\u001b[1G\u001b[0Kyour url is: https://deep-baboons-film.loca.lt\n",
            "/content/app.py:31: FutureWarning: You are using `torch.load` with `weights_only=False` (the current default value), which uses the default pickle module implicitly. It is possible to construct malicious pickle data which will execute arbitrary code during unpickling (See https://github.com/pytorch/pytorch/blob/main/SECURITY.md#untrusted-models for more details). In a future release, the default value for `weights_only` will be flipped to `True`. This limits the functions that could be executed during unpickling. Arbitrary objects will no longer be allowed to be loaded via this mode unless they are explicitly allowlisted by the user via `torch.serialization.add_safe_globals`. We recommend you start setting `weights_only=True` for any use case where you don't have full control of the loaded file. Please open an issue on GitHub for any issues related to this experimental feature.\n",
            "  model_loaded = torch.load('car_price_model.pth')\n",
            "2025-02-24 18:37:32.465 Examining the path of torch.classes raised:\n",
            "Traceback (most recent call last):\n",
            "  File \"/usr/local/lib/python3.11/dist-packages/streamlit/web/bootstrap.py\", line 345, in run\n",
            "    if asyncio.get_running_loop().is_running():\n",
            "       ^^^^^^^^^^^^^^^^^^^^^^^^^^\n",
            "RuntimeError: no running event loop\n",
            "\n",
            "During handling of the above exception, another exception occurred:\n",
            "\n",
            "Traceback (most recent call last):\n",
            "  File \"/usr/local/lib/python3.11/dist-packages/streamlit/watcher/local_sources_watcher.py\", line 217, in get_module_paths\n",
            "    potential_paths = extract_paths(module)\n",
            "                      ^^^^^^^^^^^^^^^^^^^^^\n",
            "  File \"/usr/local/lib/python3.11/dist-packages/streamlit/watcher/local_sources_watcher.py\", line 210, in <lambda>\n",
            "    lambda m: list(m.__path__._path),\n",
            "                   ^^^^^^^^^^^^^^^^\n",
            "  File \"/usr/local/lib/python3.11/dist-packages/torch/_classes.py\", line 13, in __getattr__\n",
            "    proxy = torch._C._get_custom_class_python_wrapper(self.name, attr)\n",
            "            ^^^^^^^^^^^^^^^^^^^^^^^^^^^^^^^^^^^^^^^^^^^^^^^^^^^^^^^^^^\n",
            "RuntimeError: Tried to instantiate class '__path__._path', but it does not exist! Ensure that it is registered via torch::class_\n",
            "/content/app.py:31: FutureWarning: You are using `torch.load` with `weights_only=False` (the current default value), which uses the default pickle module implicitly. It is possible to construct malicious pickle data which will execute arbitrary code during unpickling (See https://github.com/pytorch/pytorch/blob/main/SECURITY.md#untrusted-models for more details). In a future release, the default value for `weights_only` will be flipped to `True`. This limits the functions that could be executed during unpickling. Arbitrary objects will no longer be allowed to be loaded via this mode unless they are explicitly allowlisted by the user via `torch.serialization.add_safe_globals`. We recommend you start setting `weights_only=True` for any use case where you don't have full control of the loaded file. Please open an issue on GitHub for any issues related to this experimental feature.\n",
            "  model_loaded = torch.load('car_price_model.pth')\n",
            "/content/app.py:31: FutureWarning: You are using `torch.load` with `weights_only=False` (the current default value), which uses the default pickle module implicitly. It is possible to construct malicious pickle data which will execute arbitrary code during unpickling (See https://github.com/pytorch/pytorch/blob/main/SECURITY.md#untrusted-models for more details). In a future release, the default value for `weights_only` will be flipped to `True`. This limits the functions that could be executed during unpickling. Arbitrary objects will no longer be allowed to be loaded via this mode unless they are explicitly allowlisted by the user via `torch.serialization.add_safe_globals`. We recommend you start setting `weights_only=True` for any use case where you don't have full control of the loaded file. Please open an issue on GitHub for any issues related to this experimental feature.\n",
            "  model_loaded = torch.load('car_price_model.pth')\n",
            "/content/app.py:31: FutureWarning: You are using `torch.load` with `weights_only=False` (the current default value), which uses the default pickle module implicitly. It is possible to construct malicious pickle data which will execute arbitrary code during unpickling (See https://github.com/pytorch/pytorch/blob/main/SECURITY.md#untrusted-models for more details). In a future release, the default value for `weights_only` will be flipped to `True`. This limits the functions that could be executed during unpickling. Arbitrary objects will no longer be allowed to be loaded via this mode unless they are explicitly allowlisted by the user via `torch.serialization.add_safe_globals`. We recommend you start setting `weights_only=True` for any use case where you don't have full control of the loaded file. Please open an issue on GitHub for any issues related to this experimental feature.\n",
            "  model_loaded = torch.load('car_price_model.pth')\n",
            "/content/app.py:31: FutureWarning: You are using `torch.load` with `weights_only=False` (the current default value), which uses the default pickle module implicitly. It is possible to construct malicious pickle data which will execute arbitrary code during unpickling (See https://github.com/pytorch/pytorch/blob/main/SECURITY.md#untrusted-models for more details). In a future release, the default value for `weights_only` will be flipped to `True`. This limits the functions that could be executed during unpickling. Arbitrary objects will no longer be allowed to be loaded via this mode unless they are explicitly allowlisted by the user via `torch.serialization.add_safe_globals`. We recommend you start setting `weights_only=True` for any use case where you don't have full control of the loaded file. Please open an issue on GitHub for any issues related to this experimental feature.\n",
            "  model_loaded = torch.load('car_price_model.pth')\n",
            "/content/app.py:31: FutureWarning: You are using `torch.load` with `weights_only=False` (the current default value), which uses the default pickle module implicitly. It is possible to construct malicious pickle data which will execute arbitrary code during unpickling (See https://github.com/pytorch/pytorch/blob/main/SECURITY.md#untrusted-models for more details). In a future release, the default value for `weights_only` will be flipped to `True`. This limits the functions that could be executed during unpickling. Arbitrary objects will no longer be allowed to be loaded via this mode unless they are explicitly allowlisted by the user via `torch.serialization.add_safe_globals`. We recommend you start setting `weights_only=True` for any use case where you don't have full control of the loaded file. Please open an issue on GitHub for any issues related to this experimental feature.\n",
            "  model_loaded = torch.load('car_price_model.pth')\n",
            "/content/app.py:31: FutureWarning: You are using `torch.load` with `weights_only=False` (the current default value), which uses the default pickle module implicitly. It is possible to construct malicious pickle data which will execute arbitrary code during unpickling (See https://github.com/pytorch/pytorch/blob/main/SECURITY.md#untrusted-models for more details). In a future release, the default value for `weights_only` will be flipped to `True`. This limits the functions that could be executed during unpickling. Arbitrary objects will no longer be allowed to be loaded via this mode unless they are explicitly allowlisted by the user via `torch.serialization.add_safe_globals`. We recommend you start setting `weights_only=True` for any use case where you don't have full control of the loaded file. Please open an issue on GitHub for any issues related to this experimental feature.\n",
            "  model_loaded = torch.load('car_price_model.pth')\n",
            "/content/app.py:31: FutureWarning: You are using `torch.load` with `weights_only=False` (the current default value), which uses the default pickle module implicitly. It is possible to construct malicious pickle data which will execute arbitrary code during unpickling (See https://github.com/pytorch/pytorch/blob/main/SECURITY.md#untrusted-models for more details). In a future release, the default value for `weights_only` will be flipped to `True`. This limits the functions that could be executed during unpickling. Arbitrary objects will no longer be allowed to be loaded via this mode unless they are explicitly allowlisted by the user via `torch.serialization.add_safe_globals`. We recommend you start setting `weights_only=True` for any use case where you don't have full control of the loaded file. Please open an issue on GitHub for any issues related to this experimental feature.\n",
            "  model_loaded = torch.load('car_price_model.pth')\n",
            "/content/app.py:31: FutureWarning: You are using `torch.load` with `weights_only=False` (the current default value), which uses the default pickle module implicitly. It is possible to construct malicious pickle data which will execute arbitrary code during unpickling (See https://github.com/pytorch/pytorch/blob/main/SECURITY.md#untrusted-models for more details). In a future release, the default value for `weights_only` will be flipped to `True`. This limits the functions that could be executed during unpickling. Arbitrary objects will no longer be allowed to be loaded via this mode unless they are explicitly allowlisted by the user via `torch.serialization.add_safe_globals`. We recommend you start setting `weights_only=True` for any use case where you don't have full control of the loaded file. Please open an issue on GitHub for any issues related to this experimental feature.\n",
            "  model_loaded = torch.load('car_price_model.pth')\n",
            "/content/app.py:31: FutureWarning: You are using `torch.load` with `weights_only=False` (the current default value), which uses the default pickle module implicitly. It is possible to construct malicious pickle data which will execute arbitrary code during unpickling (See https://github.com/pytorch/pytorch/blob/main/SECURITY.md#untrusted-models for more details). In a future release, the default value for `weights_only` will be flipped to `True`. This limits the functions that could be executed during unpickling. Arbitrary objects will no longer be allowed to be loaded via this mode unless they are explicitly allowlisted by the user via `torch.serialization.add_safe_globals`. We recommend you start setting `weights_only=True` for any use case where you don't have full control of the loaded file. Please open an issue on GitHub for any issues related to this experimental feature.\n",
            "  model_loaded = torch.load('car_price_model.pth')\n",
            "/content/app.py:31: FutureWarning: You are using `torch.load` with `weights_only=False` (the current default value), which uses the default pickle module implicitly. It is possible to construct malicious pickle data which will execute arbitrary code during unpickling (See https://github.com/pytorch/pytorch/blob/main/SECURITY.md#untrusted-models for more details). In a future release, the default value for `weights_only` will be flipped to `True`. This limits the functions that could be executed during unpickling. Arbitrary objects will no longer be allowed to be loaded via this mode unless they are explicitly allowlisted by the user via `torch.serialization.add_safe_globals`. We recommend you start setting `weights_only=True` for any use case where you don't have full control of the loaded file. Please open an issue on GitHub for any issues related to this experimental feature.\n",
            "  model_loaded = torch.load('car_price_model.pth')\n"
          ]
        }
      ],
      "source": [
        "!streamlit run app.py & npx localtunnel --port 8501"
      ]
    }
  ],
  "metadata": {
    "colab": {
      "provenance": []
    },
    "kernelspec": {
      "display_name": "Python 3",
      "name": "python3"
    },
    "language_info": {
      "name": "python"
    }
  },
  "nbformat": 4,
  "nbformat_minor": 0
}